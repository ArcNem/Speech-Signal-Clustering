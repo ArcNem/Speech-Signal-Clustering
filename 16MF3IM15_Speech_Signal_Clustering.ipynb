{
  "nbformat": 4,
  "nbformat_minor": 0,
  "metadata": {
    "colab": {
      "name": "16MF3IM15_Speech Signal Clustering.ipynb",
      "provenance": [],
      "collapsed_sections": []
    },
    "kernelspec": {
      "name": "python3",
      "display_name": "Python 3"
    }
  },
  "cells": [
    {
      "cell_type": "code",
      "metadata": {
        "id": "UNXwywjsLhi6",
        "colab_type": "code",
        "colab": {}
      },
      "source": [
        "import os\n",
        "import librosa\n",
        "import numpy as np\n",
        "from sklearn.mixture import GaussianMixture"
      ],
      "execution_count": 0,
      "outputs": []
    },
    {
      "cell_type": "code",
      "metadata": {
        "id": "0SWxLy3fHHEj",
        "colab_type": "code",
        "outputId": "15016cca-3b2c-44e8-bbcd-b5254f74fc5b",
        "colab": {
          "base_uri": "https://localhost:8080/",
          "height": 34
        }
      },
      "source": [
        "from google.colab import drive\n",
        "drive.mount('/content/drive')"
      ],
      "execution_count": 2,
      "outputs": [
        {
          "output_type": "stream",
          "text": [
            "Drive already mounted at /content/drive; to attempt to forcibly remount, call drive.mount(\"/content/drive\", force_remount=True).\n"
          ],
          "name": "stdout"
        }
      ]
    },
    {
      "cell_type": "markdown",
      "metadata": {
        "id": "fR3yV1y2L2Yt",
        "colab_type": "text"
      },
      "source": [
        "##Reading the audio files"
      ]
    },
    {
      "cell_type": "code",
      "metadata": {
        "id": "l3OxGWa4H_ir",
        "colab_type": "code",
        "colab": {}
      },
      "source": [
        "def load_audio_from_folder(folder):\n",
        "    audios = []\n",
        "    titles=[]\n",
        "    print(\"Loaded--\"+'\\n')\n",
        "    for filename in os.listdir(folder):\n",
        "        path_to_load = \"/content/drive/My Drive/total/total/\" + filename\n",
        "        print(path_to_load)\n",
        "        y, sr = librosa.load(path_to_load, sr=16000)\n",
        "        mfccs = np.mean(librosa.feature.mfcc(y, sr=16000, n_mfcc=40).T,axis=0) \n",
        "        audios.append(mfccs)\n",
        "        titles.append(filename)\n",
        "    return audios, titles"
      ],
      "execution_count": 0,
      "outputs": []
    },
    {
      "cell_type": "code",
      "metadata": {
        "id": "ivC-IOBCHdTY",
        "colab_type": "code",
        "colab": {
          "base_uri": "https://localhost:8080/",
          "height": 1000
        },
        "outputId": "a2aafd78-573a-436a-9947-cecced66caf6"
      },
      "source": [
        "audio, titles= load_audio_from_folder(\"/content/drive/My Drive/total/total/\")"
      ],
      "execution_count": 4,
      "outputs": [
        {
          "output_type": "stream",
          "text": [
            "Loaded--\n",
            "\n",
            "/content/drive/My Drive/total/total/1.wav\n",
            "/content/drive/My Drive/total/total/11.wav\n",
            "/content/drive/My Drive/total/total/10.wav\n",
            "/content/drive/My Drive/total/total/12.wav\n",
            "/content/drive/My Drive/total/total/13.wav\n",
            "/content/drive/My Drive/total/total/14.wav\n",
            "/content/drive/My Drive/total/total/15.wav\n",
            "/content/drive/My Drive/total/total/17.wav\n",
            "/content/drive/My Drive/total/total/18.wav\n",
            "/content/drive/My Drive/total/total/16.wav\n",
            "/content/drive/My Drive/total/total/19.wav\n",
            "/content/drive/My Drive/total/total/2.wav\n",
            "/content/drive/My Drive/total/total/23.wav\n",
            "/content/drive/My Drive/total/total/22.wav\n",
            "/content/drive/My Drive/total/total/20.wav\n",
            "/content/drive/My Drive/total/total/21.wav\n",
            "/content/drive/My Drive/total/total/25.wav\n",
            "/content/drive/My Drive/total/total/27.wav\n",
            "/content/drive/My Drive/total/total/26.wav\n",
            "/content/drive/My Drive/total/total/28.wav\n",
            "/content/drive/My Drive/total/total/3.wav\n",
            "/content/drive/My Drive/total/total/30.wav\n",
            "/content/drive/My Drive/total/total/29.wav\n",
            "/content/drive/My Drive/total/total/32.wav\n",
            "/content/drive/My Drive/total/total/31.wav\n",
            "/content/drive/My Drive/total/total/33.wav\n",
            "/content/drive/My Drive/total/total/34.wav\n",
            "/content/drive/My Drive/total/total/35.wav\n",
            "/content/drive/My Drive/total/total/36.wav\n",
            "/content/drive/My Drive/total/total/37.wav\n",
            "/content/drive/My Drive/total/total/39.wav\n",
            "/content/drive/My Drive/total/total/4.wav\n",
            "/content/drive/My Drive/total/total/38.wav\n",
            "/content/drive/My Drive/total/total/41.wav\n",
            "/content/drive/My Drive/total/total/40.wav\n",
            "/content/drive/My Drive/total/total/42.wav\n",
            "/content/drive/My Drive/total/total/43.wav\n",
            "/content/drive/My Drive/total/total/44.wav\n",
            "/content/drive/My Drive/total/total/45.wav\n",
            "/content/drive/My Drive/total/total/46.wav\n",
            "/content/drive/My Drive/total/total/47.wav\n",
            "/content/drive/My Drive/total/total/48.wav\n",
            "/content/drive/My Drive/total/total/49.wav\n",
            "/content/drive/My Drive/total/total/5.wav\n",
            "/content/drive/My Drive/total/total/52.wav\n",
            "/content/drive/My Drive/total/total/50.wav\n",
            "/content/drive/My Drive/total/total/53.wav\n",
            "/content/drive/My Drive/total/total/54.wav\n",
            "/content/drive/My Drive/total/total/51.wav\n",
            "/content/drive/My Drive/total/total/55.wav\n",
            "/content/drive/My Drive/total/total/57.wav\n",
            "/content/drive/My Drive/total/total/56.wav\n",
            "/content/drive/My Drive/total/total/59.wav\n",
            "/content/drive/My Drive/total/total/58.wav\n",
            "/content/drive/My Drive/total/total/61.wav\n",
            "/content/drive/My Drive/total/total/6.wav\n",
            "/content/drive/My Drive/total/total/60.wav\n",
            "/content/drive/My Drive/total/total/63.wav\n",
            "/content/drive/My Drive/total/total/62.wav\n",
            "/content/drive/My Drive/total/total/64.wav\n",
            "/content/drive/My Drive/total/total/65.wav\n",
            "/content/drive/My Drive/total/total/66.wav\n",
            "/content/drive/My Drive/total/total/67.wav\n",
            "/content/drive/My Drive/total/total/69.wav\n",
            "/content/drive/My Drive/total/total/68.wav\n",
            "/content/drive/My Drive/total/total/70.wav\n",
            "/content/drive/My Drive/total/total/7.wav\n",
            "/content/drive/My Drive/total/total/72.wav\n",
            "/content/drive/My Drive/total/total/71.wav\n",
            "/content/drive/My Drive/total/total/73.wav\n",
            "/content/drive/My Drive/total/total/74.wav\n",
            "/content/drive/My Drive/total/total/75.wav\n",
            "/content/drive/My Drive/total/total/76.wav\n",
            "/content/drive/My Drive/total/total/77.wav\n",
            "/content/drive/My Drive/total/total/79.wav\n",
            "/content/drive/My Drive/total/total/8.wav\n",
            "/content/drive/My Drive/total/total/78.wav\n",
            "/content/drive/My Drive/total/total/80.wav\n",
            "/content/drive/My Drive/total/total/9.wav\n",
            "/content/drive/My Drive/total/total/24.wav\n"
          ],
          "name": "stdout"
        }
      ]
    },
    {
      "cell_type": "markdown",
      "metadata": {
        "id": "JWBGQR6RMaVl",
        "colab_type": "text"
      },
      "source": [
        "##Plotting any four files"
      ]
    },
    {
      "cell_type": "code",
      "metadata": {
        "colab_type": "code",
        "id": "89SVVUf0Ezyb",
        "colab": {}
      },
      "source": [
        "y1, sr1 = librosa.load('/content/drive/My Drive/total/total/80.wav')\n",
        "y2, sr2 = librosa.load('/content/drive/My Drive/total/total/50.wav')\n",
        "y3, sr3 = librosa.load('/content/drive/My Drive/total/total/30.wav')\n",
        "y4, sr4 = librosa.load('/content/drive/My Drive/total/total/10.wav')"
      ],
      "execution_count": 0,
      "outputs": []
    },
    {
      "cell_type": "code",
      "metadata": {
        "id": "k-vom82CLfwa",
        "colab_type": "code",
        "outputId": "a68185c0-1653-4442-edc9-fe557518b7e5",
        "colab": {
          "base_uri": "https://localhost:8080/",
          "height": 403
        }
      },
      "source": [
        "import matplotlib.pyplot as plt\n",
        "\n",
        "plt.figure(figsize=(10,10))\n",
        "\n",
        "plt.subplot(321)\n",
        "plt.plot(y1)\n",
        "\n",
        "plt.subplot(322)\n",
        "plt.plot(y2)\n",
        "\n",
        "plt.subplot(323)\n",
        "plt.plot(y3)\n",
        "\n",
        "plt.subplot(324)\n",
        "plt.plot(y4)\n",
        "\n",
        "plt.show()"
      ],
      "execution_count": 6,
      "outputs": [
        {
          "output_type": "display_data",
          "data": {
            "image/png": "[encoded data removed]",
            "text/plain": [
              "<Figure size 720x720 with 4 Axes>"
            ]
          },
          "metadata": {
            "tags": []
          }
        }
      ]
    },
    {
      "cell_type": "markdown",
      "metadata": {
        "id": "EWXXJoJMMoxp",
        "colab_type": "text"
      },
      "source": [
        "##Plotting any four with sampling rate = 16000"
      ]
    },
    {
      "cell_type": "code",
      "metadata": {
        "id": "qnSWr97HM0QD",
        "colab_type": "code",
        "colab": {}
      },
      "source": [
        "y1, sr1 = librosa.load('/content/drive/My Drive/total/total/80.wav', sr = 16000)\n",
        "y2, sr2 = librosa.load('/content/drive/My Drive/total/total/50.wav', sr = 16000)\n",
        "y3, sr3 = librosa.load('/content/drive/My Drive/total/total/30.wav', sr = 16000)\n",
        "y4, sr4 = librosa.load('/content/drive/My Drive/total/total/10.wav', sr = 16000)"
      ],
      "execution_count": 0,
      "outputs": []
    },
    {
      "cell_type": "code",
      "metadata": {
        "id": "qWpa-cx-M5Rw",
        "colab_type": "code",
        "outputId": "d10c674c-a786-4499-e82e-70affe780427",
        "colab": {
          "base_uri": "https://localhost:8080/",
          "height": 403
        }
      },
      "source": [
        "import matplotlib.pyplot as plt\n",
        "\n",
        "plt.figure(figsize=(10,10))\n",
        "\n",
        "plt.subplot(321)\n",
        "plt.plot(y1)\n",
        "\n",
        "plt.subplot(322)\n",
        "plt.plot(y2)\n",
        "\n",
        "plt.subplot(323)\n",
        "plt.plot(y3)\n",
        "\n",
        "plt.subplot(324)\n",
        "plt.plot(y4)\n",
        "\n",
        "plt.show()"
      ],
      "execution_count": 8,
      "outputs": [
        {
          "output_type": "display_data",
          "data": {
            "image/png": "[encoded data removed]",
            "text/plain": [
              "<Figure size 720x720 with 4 Axes>"
            ]
          },
          "metadata": {
            "tags": []
          }
        }
      ]
    },
    {
      "cell_type": "markdown",
      "metadata": {
        "id": "csYw8IlQM4-x",
        "colab_type": "text"
      },
      "source": [
        "##Clustering using GMM"
      ]
    },
    {
      "cell_type": "markdown",
      "metadata": {
        "id": "GO4TBxeCM8uQ",
        "colab_type": "text"
      },
      "source": [
        "###Number of clusters = 2"
      ]
    },
    {
      "cell_type": "code",
      "metadata": {
        "id": "G7H5e3Fhdo4Q",
        "colab_type": "code",
        "outputId": "75f9e509-f641-4be7-84b3-90f50d939d5a",
        "colab": {
          "base_uri": "https://localhost:8080/",
          "height": 84
        }
      },
      "source": [
        "cluster = GaussianMixture(n_components=2)\n",
        "\n",
        "cluster.fit(audio)"
      ],
      "execution_count": 9,
      "outputs": [
        {
          "output_type": "execute_result",
          "data": {
            "text/plain": [
              "GaussianMixture(covariance_type='full', init_params='kmeans', max_iter=100,\n",
              "                means_init=None, n_components=2, n_init=1, precisions_init=None,\n",
              "                random_state=None, reg_covar=1e-06, tol=0.001, verbose=0,\n",
              "                verbose_interval=10, warm_start=False, weights_init=None)"
            ]
          },
          "metadata": {
            "tags": []
          },
          "execution_count": 9
        }
      ]
    },
    {
      "cell_type": "code",
      "metadata": {
        "id": "CSpa8PxN4c4A",
        "colab_type": "code",
        "colab": {}
      },
      "source": [
        "cluster_assign = cluster.predict(audio)"
      ],
      "execution_count": 0,
      "outputs": []
    },
    {
      "cell_type": "code",
      "metadata": {
        "id": "rR3_Ep1DA4Td",
        "colab_type": "code",
        "colab": {
          "base_uri": "https://localhost:8080/",
          "height": 1000
        },
        "outputId": "a8bbdc9f-1bdd-4e38-b749-e3732b02a80d"
      },
      "source": [
        "for i in range(0, len(cluster_assign)):\n",
        "  print(titles[i],\"has a label::\", cluster_assign[i])"
      ],
      "execution_count": 12,
      "outputs": [
        {
          "output_type": "stream",
          "text": [
            "1.wav has a label:: 1\n",
            "11.wav has a label:: 1\n",
            "10.wav has a label:: 1\n",
            "12.wav has a label:: 0\n",
            "13.wav has a label:: 1\n",
            "14.wav has a label:: 0\n",
            "15.wav has a label:: 1\n",
            "17.wav has a label:: 0\n",
            "18.wav has a label:: 1\n",
            "16.wav has a label:: 1\n",
            "19.wav has a label:: 0\n",
            "2.wav has a label:: 0\n",
            "23.wav has a label:: 0\n",
            "22.wav has a label:: 0\n",
            "20.wav has a label:: 1\n",
            "21.wav has a label:: 1\n",
            "25.wav has a label:: 1\n",
            "27.wav has a label:: 0\n",
            "26.wav has a label:: 0\n",
            "28.wav has a label:: 0\n",
            "3.wav has a label:: 0\n",
            "30.wav has a label:: 1\n",
            "29.wav has a label:: 0\n",
            "32.wav has a label:: 0\n",
            "31.wav has a label:: 1\n",
            "33.wav has a label:: 1\n",
            "34.wav has a label:: 0\n",
            "35.wav has a label:: 1\n",
            "36.wav has a label:: 1\n",
            "37.wav has a label:: 0\n",
            "39.wav has a label:: 0\n",
            "4.wav has a label:: 1\n",
            "38.wav has a label:: 0\n",
            "41.wav has a label:: 1\n",
            "40.wav has a label:: 1\n",
            "42.wav has a label:: 0\n",
            "43.wav has a label:: 1\n",
            "44.wav has a label:: 1\n",
            "45.wav has a label:: 1\n",
            "46.wav has a label:: 0\n",
            "47.wav has a label:: 0\n",
            "48.wav has a label:: 0\n",
            "49.wav has a label:: 0\n",
            "5.wav has a label:: 1\n",
            "52.wav has a label:: 0\n",
            "50.wav has a label:: 1\n",
            "53.wav has a label:: 1\n",
            "54.wav has a label:: 0\n",
            "51.wav has a label:: 1\n",
            "55.wav has a label:: 1\n",
            "57.wav has a label:: 0\n",
            "56.wav has a label:: 0\n",
            "59.wav has a label:: 0\n",
            "58.wav has a label:: 1\n",
            "61.wav has a label:: 1\n",
            "6.wav has a label:: 1\n",
            "60.wav has a label:: 1\n",
            "63.wav has a label:: 1\n",
            "62.wav has a label:: 0\n",
            "64.wav has a label:: 1\n",
            "65.wav has a label:: 1\n",
            "66.wav has a label:: 1\n",
            "67.wav has a label:: 0\n",
            "69.wav has a label:: 0\n",
            "68.wav has a label:: 0\n",
            "70.wav has a label:: 1\n",
            "7.wav has a label:: 0\n",
            "72.wav has a label:: 0\n",
            "71.wav has a label:: 1\n",
            "73.wav has a label:: 0\n",
            "74.wav has a label:: 1\n",
            "75.wav has a label:: 1\n",
            "76.wav has a label:: 1\n",
            "77.wav has a label:: 0\n",
            "79.wav has a label:: 0\n",
            "8.wav has a label:: 0\n",
            "78.wav has a label:: 0\n",
            "80.wav has a label:: 1\n",
            "9.wav has a label:: 0\n",
            "24.wav has a label:: 0\n"
          ],
          "name": "stdout"
        }
      ]
    },
    {
      "cell_type": "markdown",
      "metadata": {
        "id": "SugkO92pNQqJ",
        "colab_type": "text"
      },
      "source": [
        "###Number of clusters = 5"
      ]
    },
    {
      "cell_type": "code",
      "metadata": {
        "id": "iJwUj4uPGBqc",
        "colab_type": "code",
        "colab": {
          "base_uri": "https://localhost:8080/",
          "height": 84
        },
        "outputId": "fd6c532b-e4ad-4b23-c6f4-a3b87f5ce3d7"
      },
      "source": [
        "cluster = GaussianMixture(n_components=5)\n",
        "\n",
        "cluster.fit(audio)"
      ],
      "execution_count": 13,
      "outputs": [
        {
          "output_type": "execute_result",
          "data": {
            "text/plain": [
              "GaussianMixture(covariance_type='full', init_params='kmeans', max_iter=100,\n",
              "                means_init=None, n_components=5, n_init=1, precisions_init=None,\n",
              "                random_state=None, reg_covar=1e-06, tol=0.001, verbose=0,\n",
              "                verbose_interval=10, warm_start=False, weights_init=None)"
            ]
          },
          "metadata": {
            "tags": []
          },
          "execution_count": 13
        }
      ]
    },
    {
      "cell_type": "code",
      "metadata": {
        "id": "gzICPlTKNb5k",
        "colab_type": "code",
        "colab": {}
      },
      "source": [
        "cluster_assign = cluster.predict(audio)"
      ],
      "execution_count": 0,
      "outputs": []
    },
    {
      "cell_type": "code",
      "metadata": {
        "id": "dTPdFxw9Ndct",
        "colab_type": "code",
        "colab": {
          "base_uri": "https://localhost:8080/",
          "height": 1000
        },
        "outputId": "a78d6c7f-f786-4d97-960f-336261eea8f5"
      },
      "source": [
        "for i in range(0, len(cluster_assign)):\n",
        "  print(titles[i],\"has a label::\", cluster_assign[i])"
      ],
      "execution_count": 15,
      "outputs": [
        {
          "output_type": "stream",
          "text": [
            "1.wav has a label:: 4\n",
            "11.wav has a label:: 4\n",
            "10.wav has a label:: 0\n",
            "12.wav has a label:: 1\n",
            "13.wav has a label:: 3\n",
            "14.wav has a label:: 1\n",
            "15.wav has a label:: 4\n",
            "17.wav has a label:: 2\n",
            "18.wav has a label:: 3\n",
            "16.wav has a label:: 0\n",
            "19.wav has a label:: 2\n",
            "2.wav has a label:: 1\n",
            "23.wav has a label:: 3\n",
            "22.wav has a label:: 1\n",
            "20.wav has a label:: 3\n",
            "21.wav has a label:: 4\n",
            "25.wav has a label:: 0\n",
            "27.wav has a label:: 2\n",
            "26.wav has a label:: 2\n",
            "28.wav has a label:: 1\n",
            "3.wav has a label:: 3\n",
            "30.wav has a label:: 0\n",
            "29.wav has a label:: 2\n",
            "32.wav has a label:: 1\n",
            "31.wav has a label:: 4\n",
            "33.wav has a label:: 3\n",
            "34.wav has a label:: 1\n",
            "35.wav has a label:: 0\n",
            "36.wav has a label:: 0\n",
            "37.wav has a label:: 2\n",
            "39.wav has a label:: 2\n",
            "4.wav has a label:: 3\n",
            "38.wav has a label:: 1\n",
            "41.wav has a label:: 4\n",
            "40.wav has a label:: 3\n",
            "42.wav has a label:: 1\n",
            "43.wav has a label:: 3\n",
            "44.wav has a label:: 3\n",
            "45.wav has a label:: 0\n",
            "46.wav has a label:: 3\n",
            "47.wav has a label:: 2\n",
            "48.wav has a label:: 3\n",
            "49.wav has a label:: 2\n",
            "5.wav has a label:: 0\n",
            "52.wav has a label:: 1\n",
            "50.wav has a label:: 3\n",
            "53.wav has a label:: 3\n",
            "54.wav has a label:: 1\n",
            "51.wav has a label:: 4\n",
            "55.wav has a label:: 0\n",
            "57.wav has a label:: 2\n",
            "56.wav has a label:: 3\n",
            "59.wav has a label:: 2\n",
            "58.wav has a label:: 3\n",
            "61.wav has a label:: 4\n",
            "6.wav has a label:: 0\n",
            "60.wav has a label:: 3\n",
            "63.wav has a label:: 3\n",
            "62.wav has a label:: 1\n",
            "64.wav has a label:: 3\n",
            "65.wav has a label:: 0\n",
            "66.wav has a label:: 3\n",
            "67.wav has a label:: 2\n",
            "69.wav has a label:: 2\n",
            "68.wav has a label:: 1\n",
            "70.wav has a label:: 3\n",
            "7.wav has a label:: 2\n",
            "72.wav has a label:: 1\n",
            "71.wav has a label:: 4\n",
            "73.wav has a label:: 3\n",
            "74.wav has a label:: 3\n",
            "75.wav has a label:: 0\n",
            "76.wav has a label:: 0\n",
            "77.wav has a label:: 2\n",
            "79.wav has a label:: 2\n",
            "8.wav has a label:: 1\n",
            "78.wav has a label:: 3\n",
            "80.wav has a label:: 3\n",
            "9.wav has a label:: 2\n",
            "24.wav has a label:: 1\n"
          ],
          "name": "stdout"
        }
      ]
    },
    {
      "cell_type": "markdown",
      "metadata": {
        "id": "o63E8G7dNk76",
        "colab_type": "text"
      },
      "source": [
        "###Number of clusters = 10"
      ]
    },
    {
      "cell_type": "code",
      "metadata": {
        "id": "RBoSXp74Nia9",
        "colab_type": "code",
        "colab": {
          "base_uri": "https://localhost:8080/",
          "height": 101
        },
        "outputId": "deb4f79c-dd54-4e3e-95b4-cc31439d7706"
      },
      "source": [
        "cluster = GaussianMixture(n_components=10)\n",
        "\n",
        "cluster.fit(audio)"
      ],
      "execution_count": 16,
      "outputs": [
        {
          "output_type": "execute_result",
          "data": {
            "text/plain": [
              "GaussianMixture(covariance_type='full', init_params='kmeans', max_iter=100,\n",
              "                means_init=None, n_components=10, n_init=1,\n",
              "                precisions_init=None, random_state=None, reg_covar=1e-06,\n",
              "                tol=0.001, verbose=0, verbose_interval=10, warm_start=False,\n",
              "                weights_init=None)"
            ]
          },
          "metadata": {
            "tags": []
          },
          "execution_count": 16
        }
      ]
    },
    {
      "cell_type": "code",
      "metadata": {
        "id": "jc1Jk5GdNrks",
        "colab_type": "code",
        "colab": {}
      },
      "source": [
        "cluster_assign = cluster.predict(audio)"
      ],
      "execution_count": 0,
      "outputs": []
    },
    {
      "cell_type": "code",
      "metadata": {
        "id": "SsE5I_QZNxBt",
        "colab_type": "code",
        "colab": {
          "base_uri": "https://localhost:8080/",
          "height": 1000
        },
        "outputId": "af8506de-016f-4204-8f73-c77102641be7"
      },
      "source": [
        "for i in range(0, len(cluster_assign)):\n",
        "  print(titles[i],\"has a label::\", cluster_assign[i])"
      ],
      "execution_count": 18,
      "outputs": [
        {
          "output_type": "stream",
          "text": [
            "1.wav has a label:: 6\n",
            "11.wav has a label:: 6\n",
            "10.wav has a label:: 5\n",
            "12.wav has a label:: 0\n",
            "13.wav has a label:: 2\n",
            "14.wav has a label:: 9\n",
            "15.wav has a label:: 4\n",
            "17.wav has a label:: 7\n",
            "18.wav has a label:: 8\n",
            "16.wav has a label:: 1\n",
            "19.wav has a label:: 7\n",
            "2.wav has a label:: 0\n",
            "23.wav has a label:: 9\n",
            "22.wav has a label:: 0\n",
            "20.wav has a label:: 5\n",
            "21.wav has a label:: 6\n",
            "25.wav has a label:: 4\n",
            "27.wav has a label:: 7\n",
            "26.wav has a label:: 3\n",
            "28.wav has a label:: 9\n",
            "3.wav has a label:: 2\n",
            "30.wav has a label:: 5\n",
            "29.wav has a label:: 7\n",
            "32.wav has a label:: 0\n",
            "31.wav has a label:: 6\n",
            "33.wav has a label:: 2\n",
            "34.wav has a label:: 9\n",
            "35.wav has a label:: 4\n",
            "36.wav has a label:: 1\n",
            "37.wav has a label:: 3\n",
            "39.wav has a label:: 7\n",
            "4.wav has a label:: 5\n",
            "38.wav has a label:: 9\n",
            "41.wav has a label:: 6\n",
            "40.wav has a label:: 5\n",
            "42.wav has a label:: 0\n",
            "43.wav has a label:: 2\n",
            "44.wav has a label:: 5\n",
            "45.wav has a label:: 4\n",
            "46.wav has a label:: 9\n",
            "47.wav has a label:: 3\n",
            "48.wav has a label:: 8\n",
            "49.wav has a label:: 7\n",
            "5.wav has a label:: 4\n",
            "52.wav has a label:: 0\n",
            "50.wav has a label:: 5\n",
            "53.wav has a label:: 2\n",
            "54.wav has a label:: 9\n",
            "51.wav has a label:: 6\n",
            "55.wav has a label:: 4\n",
            "57.wav has a label:: 3\n",
            "56.wav has a label:: 9\n",
            "59.wav has a label:: 7\n",
            "58.wav has a label:: 8\n",
            "61.wav has a label:: 6\n",
            "6.wav has a label:: 1\n",
            "60.wav has a label:: 5\n",
            "63.wav has a label:: 2\n",
            "62.wav has a label:: 9\n",
            "64.wav has a label:: 8\n",
            "65.wav has a label:: 4\n",
            "66.wav has a label:: 1\n",
            "67.wav has a label:: 3\n",
            "69.wav has a label:: 7\n",
            "68.wav has a label:: 9\n",
            "70.wav has a label:: 2\n",
            "7.wav has a label:: 3\n",
            "72.wav has a label:: 9\n",
            "71.wav has a label:: 4\n",
            "73.wav has a label:: 2\n",
            "74.wav has a label:: 5\n",
            "75.wav has a label:: 4\n",
            "76.wav has a label:: 1\n",
            "77.wav has a label:: 3\n",
            "79.wav has a label:: 3\n",
            "8.wav has a label:: 8\n",
            "78.wav has a label:: 8\n",
            "80.wav has a label:: 2\n",
            "9.wav has a label:: 7\n",
            "24.wav has a label:: 9\n"
          ],
          "name": "stdout"
        }
      ]
    }
  ]
}